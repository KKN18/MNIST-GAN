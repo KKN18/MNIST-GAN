{
  "nbformat": 4,
  "nbformat_minor": 0,
  "metadata": {
    "colab": {
      "provenance": []
    },
    "kernelspec": {
      "name": "python3",
      "display_name": "Python 3"
    },
    "language_info": {
      "name": "python"
    },
    "accelerator": "GPU",
    "gpuClass": "standard"
  },
  "cells": [
    {
      "cell_type": "code",
      "execution_count": null,
      "metadata": {
        "id": "V5GcEir5HKR0",
        "colab": {
          "base_uri": "https://localhost:8080/"
        },
        "outputId": "7d958fc0-d50b-411e-a546-5146942b6f6b"
      },
      "outputs": [
        {
          "output_type": "stream",
          "name": "stdout",
          "text": [
            "Drive already mounted at /content/drive; to attempt to forcibly remount, call drive.mount(\"/content/drive\", force_remount=True).\n"
          ]
        }
      ],
      "source": [
        "from google.colab import drive\n",
        "drive.mount('/content/drive')"
      ]
    },
    {
      "cell_type": "code",
      "source": [
        "import torch\n",
        "import torch.nn as nn\n",
        "import torch.nn.functional as F\n",
        "import torch.optim as optim\n",
        "from torch.autograd import Variable\n",
        "from torchvision import transforms\n",
        "from torchvision import datasets\n",
        "from torchvision.utils import save_image"
      ],
      "metadata": {
        "id": "qOPTGL_HKq2y"
      },
      "execution_count": null,
      "outputs": []
    },
    {
      "cell_type": "code",
      "source": [
        "device = torch.device('cuda') if torch.cuda.is_available() else torch.device('cpu')\n",
        "device"
      ],
      "metadata": {
        "colab": {
          "base_uri": "https://localhost:8080/"
        },
        "id": "s71JgNSSLYO3",
        "outputId": "d74ac1ba-f78c-45c3-caa9-ce116dc2fcab"
      },
      "execution_count": null,
      "outputs": [
        {
          "output_type": "execute_result",
          "data": {
            "text/plain": [
              "device(type='cuda')"
            ]
          },
          "metadata": {},
          "execution_count": 14
        }
      ]
    },
    {
      "cell_type": "code",
      "source": [
        "transforms = transforms.Compose([\n",
        "    transforms.ToTensor(),\n",
        "    transforms.Normalize(mean=(0.5), std=(0.5))\n",
        "])\n",
        "\n",
        "batch = 100\n",
        "\n",
        "train_dataset = datasets.MNIST(root='./mnist_data/', train=True, transform=transforms, download=True)\n",
        "test_dataset = datasets.MNIST(root='./mnist_data/', train=False, transform=transforms, download=True)\n",
        "\n",
        "train_loader = torch.utils.data.DataLoader(dataset=train_dataset, batch_size=batch, shuffle=True)\n",
        "test_loader = torch.utils.data.DataLoader(dataset=test_dataset, batch_size=batch, shuffle=False)"
      ],
      "metadata": {
        "id": "CbaHqFCmLhsF"
      },
      "execution_count": null,
      "outputs": []
    },
    {
      "cell_type": "code",
      "source": [
        "class Generator(nn.Module):\n",
        "    def __init__(self, in_features, out_features):\n",
        "        super(Generator, self).__init__()\n",
        "        self.fc1 = nn.Linear(in_features, 256)\n",
        "        self.fc2 = nn.Linear(256, 512)\n",
        "        self.fc3 = nn.Linear(512, 1024)\n",
        "        self.fc4 = nn.Linear(1024, out_features)\n",
        "\n",
        "    def forward(self, x):\n",
        "        x = F.leaky_relu(self.fc1(x), 0.2)\n",
        "        x = F.dropout(x, 0.3)\n",
        "        x = F.leaky_relu(self.fc2(x), 0.2)\n",
        "        x = F.dropout(x, 0.3)\n",
        "        x = F.leaky_relu(self.fc3(x), 0.2)\n",
        "        x = F.dropout(x, 0.3)\n",
        "        x = torch.tanh(self.fc4(x))\n",
        "        return x\n",
        "\n",
        "class Discriminator(nn.Module):\n",
        "    def __init__(self, in_features):\n",
        "        super(Discriminator, self).__init__()\n",
        "        self.fc1 = nn.Linear(in_features, 1024)\n",
        "        self.fc2 = nn.Linear(1024, 512)\n",
        "        self.fc3 = nn.Linear(512, 256)\n",
        "        self.fc4 = nn.Linear(256, 1)\n",
        "\n",
        "    def forward(self, x):\n",
        "        x = F.leaky_relu(self.fc1(x), 0.2)\n",
        "        x = F.dropout(x, 0.3)\n",
        "        x = F.leaky_relu(self.fc2(x), 0.2)\n",
        "        x = F.dropout(x, 0.3)\n",
        "        x = F.leaky_relu(self.fc3(x), 0.2)\n",
        "        x = F.dropout(x, 0.3)\n",
        "        x = torch.sigmoid(self.fc4(x))\n",
        "        return x"
      ],
      "metadata": {
        "id": "HI1ACb-MMrFE"
      },
      "execution_count": null,
      "outputs": []
    },
    {
      "cell_type": "code",
      "source": [
        "z_features = 100\n",
        "\n",
        "col, row = train_dataset.data[0].shape\n",
        "data_features = col * row\n",
        "\n",
        "G = Generator(in_features=z_features, out_features=data_features)\n",
        "D = Discriminator(in_features=data_features)\n",
        "\n",
        "G.to(device)\n",
        "D.to(device)"
      ],
      "metadata": {
        "colab": {
          "base_uri": "https://localhost:8080/"
        },
        "id": "RAP5tRomRHcs",
        "outputId": "ed652104-2180-4bda-9840-e4530228e328"
      },
      "execution_count": null,
      "outputs": [
        {
          "output_type": "execute_result",
          "data": {
            "text/plain": [
              "Discriminator(\n",
              "  (fc1): Linear(in_features=784, out_features=1024, bias=True)\n",
              "  (fc2): Linear(in_features=1024, out_features=512, bias=True)\n",
              "  (fc3): Linear(in_features=512, out_features=256, bias=True)\n",
              "  (fc4): Linear(in_features=256, out_features=1, bias=True)\n",
              ")"
            ]
          },
          "metadata": {},
          "execution_count": 17
        }
      ]
    },
    {
      "cell_type": "code",
      "source": [
        "criterion = nn.BCELoss()\n",
        "\n",
        "lr = 0.0002\n",
        "G_optimizer = optim.Adam(G.parameters(), lr=lr)\n",
        "D_optimizer = optim.Adam(D.parameters(), lr=lr)"
      ],
      "metadata": {
        "id": "0JCmZ7y9RxxO"
      },
      "execution_count": null,
      "outputs": []
    },
    {
      "cell_type": "code",
      "source": [
        "def G_train(x):\n",
        "    G.zero_grad()\n",
        "\n",
        "    z = Variable(torch.randn(batch, z_features).to(device))\n",
        "    y = Variable(torch.ones(batch, 1).to(device))\n",
        "\n",
        "    G_output = G(z)\n",
        "    D_output = D(G_output)\n",
        "    G_loss = criterion(D_output, y)\n",
        "    \n",
        "    G_loss.backward()\n",
        "    G_optimizer.step()\n",
        "\n",
        "    return G_loss.data.item()"
      ],
      "metadata": {
        "id": "REmWWnQORzcY"
      },
      "execution_count": null,
      "outputs": []
    },
    {
      "cell_type": "code",
      "source": [
        "def D_train(x):\n",
        "    D.zero_grad()\n",
        "\n",
        "    x_real, y_real = x.view(-1, data_features), torch.ones(batch, 1)\n",
        "    x_real, y_real = Variable(x_real.to(device)), Variable(y_real.to(device))\n",
        "    \n",
        "    D_output = D(x_real)\n",
        "    D_real_loss = criterion(D_output, y_real)\n",
        "    D_real_score = D_output\n",
        "\n",
        "    z = Variable(torch.randn(batch, z_features).to(device))\n",
        "    x_fake, y_fake = G(z), Variable(torch.zeros(batch, 1).to(device))\n",
        "    \n",
        "    D_output = D(x_fake)\n",
        "    D_fake_loss = criterion(D_output, y_fake)\n",
        "    D_fake_score = D_output\n",
        "\n",
        "    D_loss = D_real_loss + D_fake_loss\n",
        "    D_loss.backward()\n",
        "    D_optimizer.step()\n",
        "\n",
        "    return D_loss.data.item()"
      ],
      "metadata": {
        "id": "ESO-PszcSPeK"
      },
      "execution_count": null,
      "outputs": []
    },
    {
      "cell_type": "code",
      "source": [
        "filepath = \"/content/drive/MyDrive/Colab Notebooks/2022/MNIST GAN\"\n",
        "\n",
        "G_modelpath = f\"{filepath}/model/G_state\"\n",
        "D_modelpath = f\"{filepath}/model/D_state\""
      ],
      "metadata": {
        "id": "C3uO02i-pYgs"
      },
      "execution_count": null,
      "outputs": []
    },
    {
      "cell_type": "code",
      "source": [
        "G.load_state_dict(torch.load(f\"{G_modelpath}/G_model_state_dict.pt\"))\n",
        "G_optimizer.load_state_dict(torch.load(f\"{G_modelpath}/G_optim_state_dict.pt\"))\n",
        "D.load_state_dict(torch.load(f\"{D_modelpath}/D_model_state_dict.pt\"))\n",
        "D_optimizer.load_state_Dict(torch.load(f\"{D_modelpath}/D_optim_state_dict.pt\")))"
      ],
      "metadata": {
        "id": "tvQAHo8jq4jj"
      },
      "execution_count": null,
      "outputs": []
    },
    {
      "cell_type": "code",
      "source": [
        "n_epoch = 200\n",
        "best_g_loss = float('inf')\n",
        "for epoch in range(1, n_epoch+1):\n",
        "    D_losses, G_losses = [], []\n",
        "    for batch_idx, (x, _) in enumerate(train_loader):\n",
        "        D_losses.append(D_train(x))\n",
        "        G_losses.append(G_train(x))\n",
        "    \n",
        "    print('[%d/%d]: loss_d: %.3f, loss_g: %.3f' % (\n",
        "            (epoch), n_epoch, torch.mean(torch.FloatTensor(D_losses)), torch.mean(torch.FloatTensor(G_losses))))\n",
        "    if loss_g < best_g_loss:\n",
        "        best_loss = loss_g\n",
        "        best_G_model_state = G.state_dict()\n",
        "        best_G_optim_state = G_optimizer.state_dict()\n",
        "        torch.save(best_G_model_state, f\"{G_modelpath}/G_model_state_dict.pt\")\n",
        "        torch.save(best_G_optim_state, f\"{G_modelpath}/G_optim_state_dict.pt\")\n",
        "\n",
        "        torch.save(D.state_dict(), f\"{D_modelpath}/D_model_state_dict.pt\")\n",
        "        torch.save(D_optimizer.state_dict(), f\"{D_modelpath}/D_optim_state_dict.pt\")\n"
      ],
      "metadata": {
        "id": "8ypPbes3wn6x",
        "colab": {
          "base_uri": "https://localhost:8080/"
        },
        "outputId": "ba6c258f-756d-418f-bc1e-9aa448ca1206"
      },
      "execution_count": null,
      "outputs": [
        {
          "output_type": "stream",
          "name": "stdout",
          "text": [
            "[1/200]: loss_d: 0.644, loss_g: 4.829\n",
            "[2/200]: loss_d: 0.026, loss_g: 10.272\n",
            "[3/200]: loss_d: 0.213, loss_g: 10.108\n",
            "[4/200]: loss_d: 0.637, loss_g: 4.472\n",
            "[5/200]: loss_d: 0.417, loss_g: 3.810\n",
            "[6/200]: loss_d: 0.259, loss_g: 4.424\n",
            "[7/200]: loss_d: 0.263, loss_g: 4.725\n",
            "[8/200]: loss_d: 0.343, loss_g: 4.090\n",
            "[9/200]: loss_d: 0.394, loss_g: 3.455\n",
            "[10/200]: loss_d: 0.391, loss_g: 3.434\n",
            "[11/200]: loss_d: 0.394, loss_g: 3.251\n",
            "[12/200]: loss_d: 0.502, loss_g: 2.827\n",
            "[13/200]: loss_d: 0.565, loss_g: 2.549\n",
            "[14/200]: loss_d: 0.545, loss_g: 2.611\n",
            "[15/200]: loss_d: 0.660, loss_g: 2.220\n",
            "[16/200]: loss_d: 0.667, loss_g: 2.156\n",
            "[17/200]: loss_d: 0.710, loss_g: 2.052\n",
            "[18/200]: loss_d: 0.773, loss_g: 1.942\n",
            "[19/200]: loss_d: 0.768, loss_g: 1.955\n",
            "[20/200]: loss_d: 0.785, loss_g: 1.892\n",
            "[21/200]: loss_d: 0.812, loss_g: 1.815\n",
            "[22/200]: loss_d: 0.826, loss_g: 1.787\n",
            "[23/200]: loss_d: 0.834, loss_g: 1.759\n",
            "[24/200]: loss_d: 0.860, loss_g: 1.733\n",
            "[25/200]: loss_d: 0.912, loss_g: 1.617\n",
            "[26/200]: loss_d: 0.888, loss_g: 1.635\n",
            "[27/200]: loss_d: 0.903, loss_g: 1.634\n",
            "[28/200]: loss_d: 0.928, loss_g: 1.573\n",
            "[29/200]: loss_d: 0.930, loss_g: 1.565\n",
            "[30/200]: loss_d: 0.935, loss_g: 1.541\n",
            "[31/200]: loss_d: 0.946, loss_g: 1.530\n",
            "[32/200]: loss_d: 0.952, loss_g: 1.503\n",
            "[33/200]: loss_d: 0.965, loss_g: 1.501\n",
            "[34/200]: loss_d: 0.984, loss_g: 1.432\n",
            "[35/200]: loss_d: 0.984, loss_g: 1.446\n",
            "[36/200]: loss_d: 0.990, loss_g: 1.424\n",
            "[37/200]: loss_d: 0.998, loss_g: 1.414\n",
            "[38/200]: loss_d: 1.003, loss_g: 1.404\n",
            "[39/200]: loss_d: 1.008, loss_g: 1.395\n",
            "[40/200]: loss_d: 1.019, loss_g: 1.370\n",
            "[41/200]: loss_d: 1.028, loss_g: 1.362\n",
            "[42/200]: loss_d: 1.042, loss_g: 1.323\n",
            "[43/200]: loss_d: 1.049, loss_g: 1.311\n",
            "[44/200]: loss_d: 1.056, loss_g: 1.288\n",
            "[45/200]: loss_d: 1.055, loss_g: 1.295\n",
            "[46/200]: loss_d: 1.057, loss_g: 1.281\n",
            "[47/200]: loss_d: 1.064, loss_g: 1.284\n",
            "[48/200]: loss_d: 1.063, loss_g: 1.283\n",
            "[49/200]: loss_d: 1.070, loss_g: 1.258\n",
            "[50/200]: loss_d: 1.081, loss_g: 1.252\n",
            "[51/200]: loss_d: 1.075, loss_g: 1.255\n",
            "[52/200]: loss_d: 1.075, loss_g: 1.256\n",
            "[53/200]: loss_d: 1.073, loss_g: 1.264\n",
            "[54/200]: loss_d: 1.085, loss_g: 1.239\n",
            "[55/200]: loss_d: 1.084, loss_g: 1.233\n",
            "[56/200]: loss_d: 1.081, loss_g: 1.232\n",
            "[57/200]: loss_d: 1.088, loss_g: 1.232\n",
            "[58/200]: loss_d: 1.093, loss_g: 1.217\n",
            "[59/200]: loss_d: 1.098, loss_g: 1.204\n",
            "[60/200]: loss_d: 1.097, loss_g: 1.209\n",
            "[61/200]: loss_d: 1.093, loss_g: 1.227\n",
            "[62/200]: loss_d: 1.100, loss_g: 1.209\n",
            "[63/200]: loss_d: 1.098, loss_g: 1.209\n",
            "[64/200]: loss_d: 1.104, loss_g: 1.200\n",
            "[65/200]: loss_d: 1.101, loss_g: 1.201\n",
            "[66/200]: loss_d: 1.107, loss_g: 1.188\n",
            "[67/200]: loss_d: 1.106, loss_g: 1.194\n",
            "[68/200]: loss_d: 1.102, loss_g: 1.200\n",
            "[69/200]: loss_d: 1.100, loss_g: 1.199\n",
            "[70/200]: loss_d: 1.100, loss_g: 1.211\n",
            "[71/200]: loss_d: 1.103, loss_g: 1.187\n",
            "[72/200]: loss_d: 1.107, loss_g: 1.199\n",
            "[73/200]: loss_d: 1.108, loss_g: 1.186\n",
            "[74/200]: loss_d: 1.110, loss_g: 1.181\n",
            "[75/200]: loss_d: 1.107, loss_g: 1.192\n",
            "[76/200]: loss_d: 1.114, loss_g: 1.173\n",
            "[77/200]: loss_d: 1.116, loss_g: 1.169\n",
            "[78/200]: loss_d: 1.110, loss_g: 1.182\n",
            "[79/200]: loss_d: 1.113, loss_g: 1.173\n",
            "[80/200]: loss_d: 1.107, loss_g: 1.187\n",
            "[81/200]: loss_d: 1.113, loss_g: 1.190\n",
            "[82/200]: loss_d: 1.110, loss_g: 1.182\n",
            "[83/200]: loss_d: 1.111, loss_g: 1.187\n",
            "[84/200]: loss_d: 1.112, loss_g: 1.168\n",
            "[85/200]: loss_d: 1.112, loss_g: 1.181\n",
            "[86/200]: loss_d: 1.117, loss_g: 1.172\n",
            "[87/200]: loss_d: 1.109, loss_g: 1.179\n",
            "[88/200]: loss_d: 1.114, loss_g: 1.181\n",
            "[89/200]: loss_d: 1.113, loss_g: 1.174\n",
            "[90/200]: loss_d: 1.112, loss_g: 1.188\n",
            "[91/200]: loss_d: 1.113, loss_g: 1.176\n",
            "[92/200]: loss_d: 1.106, loss_g: 1.187\n",
            "[93/200]: loss_d: 1.116, loss_g: 1.180\n",
            "[94/200]: loss_d: 1.109, loss_g: 1.186\n",
            "[95/200]: loss_d: 1.114, loss_g: 1.176\n",
            "[96/200]: loss_d: 1.111, loss_g: 1.182\n",
            "[97/200]: loss_d: 1.110, loss_g: 1.185\n",
            "[98/200]: loss_d: 1.110, loss_g: 1.187\n",
            "[99/200]: loss_d: 1.110, loss_g: 1.184\n",
            "[100/200]: loss_d: 1.108, loss_g: 1.183\n",
            "[101/200]: loss_d: 1.105, loss_g: 1.193\n",
            "[102/200]: loss_d: 1.104, loss_g: 1.200\n",
            "[103/200]: loss_d: 1.115, loss_g: 1.185\n",
            "[104/200]: loss_d: 1.110, loss_g: 1.196\n",
            "[105/200]: loss_d: 1.106, loss_g: 1.191\n",
            "[106/200]: loss_d: 1.117, loss_g: 1.183\n",
            "[107/200]: loss_d: 1.111, loss_g: 1.187\n",
            "[108/200]: loss_d: 1.110, loss_g: 1.188\n",
            "[109/200]: loss_d: 1.109, loss_g: 1.184\n",
            "[110/200]: loss_d: 1.099, loss_g: 1.206\n",
            "[111/200]: loss_d: 1.103, loss_g: 1.203\n",
            "[112/200]: loss_d: 1.103, loss_g: 1.198\n",
            "[113/200]: loss_d: 1.102, loss_g: 1.201\n",
            "[114/200]: loss_d: 1.099, loss_g: 1.209\n",
            "[115/200]: loss_d: 1.098, loss_g: 1.206\n",
            "[116/200]: loss_d: 1.099, loss_g: 1.197\n",
            "[117/200]: loss_d: 1.102, loss_g: 1.208\n",
            "[118/200]: loss_d: 1.102, loss_g: 1.200\n",
            "[119/200]: loss_d: 1.100, loss_g: 1.207\n",
            "[120/200]: loss_d: 1.105, loss_g: 1.202\n",
            "[121/200]: loss_d: 1.098, loss_g: 1.207\n",
            "[122/200]: loss_d: 1.098, loss_g: 1.215\n",
            "[123/200]: loss_d: 1.100, loss_g: 1.200\n",
            "[124/200]: loss_d: 1.096, loss_g: 1.205\n",
            "[125/200]: loss_d: 1.099, loss_g: 1.214\n",
            "[126/200]: loss_d: 1.093, loss_g: 1.216\n",
            "[127/200]: loss_d: 1.095, loss_g: 1.222\n",
            "[128/200]: loss_d: 1.091, loss_g: 1.230\n",
            "[129/200]: loss_d: 1.097, loss_g: 1.212\n",
            "[130/200]: loss_d: 1.092, loss_g: 1.215\n",
            "[131/200]: loss_d: 1.092, loss_g: 1.218\n",
            "[132/200]: loss_d: 1.094, loss_g: 1.225\n",
            "[133/200]: loss_d: 1.088, loss_g: 1.219\n",
            "[134/200]: loss_d: 1.092, loss_g: 1.227\n",
            "[135/200]: loss_d: 1.093, loss_g: 1.229\n",
            "[136/200]: loss_d: 1.089, loss_g: 1.231\n",
            "[137/200]: loss_d: 1.092, loss_g: 1.229\n",
            "[138/200]: loss_d: 1.090, loss_g: 1.226\n",
            "[139/200]: loss_d: 1.086, loss_g: 1.236\n",
            "[140/200]: loss_d: 1.085, loss_g: 1.236\n",
            "[141/200]: loss_d: 1.081, loss_g: 1.248\n",
            "[142/200]: loss_d: 1.086, loss_g: 1.240\n",
            "[143/200]: loss_d: 1.082, loss_g: 1.247\n",
            "[144/200]: loss_d: 1.086, loss_g: 1.228\n",
            "[145/200]: loss_d: 1.086, loss_g: 1.237\n",
            "[146/200]: loss_d: 1.077, loss_g: 1.255\n",
            "[147/200]: loss_d: 1.078, loss_g: 1.249\n",
            "[148/200]: loss_d: 1.078, loss_g: 1.257\n",
            "[149/200]: loss_d: 1.083, loss_g: 1.245\n",
            "[150/200]: loss_d: 1.075, loss_g: 1.268\n",
            "[151/200]: loss_d: 1.079, loss_g: 1.246\n",
            "[152/200]: loss_d: 1.073, loss_g: 1.254\n",
            "[153/200]: loss_d: 1.079, loss_g: 1.254\n",
            "[154/200]: loss_d: 1.075, loss_g: 1.263\n",
            "[155/200]: loss_d: 1.070, loss_g: 1.265\n",
            "[156/200]: loss_d: 1.067, loss_g: 1.275\n",
            "[157/200]: loss_d: 1.070, loss_g: 1.265\n",
            "[158/200]: loss_d: 1.074, loss_g: 1.257\n",
            "[159/200]: loss_d: 1.063, loss_g: 1.286\n",
            "[160/200]: loss_d: 1.068, loss_g: 1.280\n",
            "[161/200]: loss_d: 1.069, loss_g: 1.273\n",
            "[162/200]: loss_d: 1.063, loss_g: 1.283\n",
            "[163/200]: loss_d: 1.067, loss_g: 1.280\n",
            "[164/200]: loss_d: 1.058, loss_g: 1.289\n",
            "[165/200]: loss_d: 1.068, loss_g: 1.287\n",
            "[166/200]: loss_d: 1.060, loss_g: 1.289\n",
            "[167/200]: loss_d: 1.060, loss_g: 1.288\n",
            "[168/200]: loss_d: 1.061, loss_g: 1.292\n",
            "[169/200]: loss_d: 1.058, loss_g: 1.299\n",
            "[170/200]: loss_d: 1.056, loss_g: 1.294\n",
            "[171/200]: loss_d: 1.054, loss_g: 1.303\n",
            "[172/200]: loss_d: 1.052, loss_g: 1.305\n",
            "[173/200]: loss_d: 1.054, loss_g: 1.303\n",
            "[174/200]: loss_d: 1.050, loss_g: 1.320\n",
            "[175/200]: loss_d: 1.054, loss_g: 1.304\n",
            "[176/200]: loss_d: 1.055, loss_g: 1.310\n",
            "[177/200]: loss_d: 1.056, loss_g: 1.301\n",
            "[178/200]: loss_d: 1.053, loss_g: 1.316\n",
            "[179/200]: loss_d: 1.053, loss_g: 1.314\n",
            "[180/200]: loss_d: 1.050, loss_g: 1.315\n",
            "[181/200]: loss_d: 1.047, loss_g: 1.313\n",
            "[182/200]: loss_d: 1.047, loss_g: 1.321\n",
            "[183/200]: loss_d: 1.053, loss_g: 1.317\n",
            "[184/200]: loss_d: 1.046, loss_g: 1.328\n",
            "[185/200]: loss_d: 1.044, loss_g: 1.319\n",
            "[186/200]: loss_d: 1.047, loss_g: 1.326\n",
            "[187/200]: loss_d: 1.044, loss_g: 1.327\n",
            "[188/200]: loss_d: 1.044, loss_g: 1.325\n",
            "[189/200]: loss_d: 1.041, loss_g: 1.342\n",
            "[190/200]: loss_d: 1.041, loss_g: 1.329\n",
            "[191/200]: loss_d: 1.037, loss_g: 1.353\n",
            "[192/200]: loss_d: 1.037, loss_g: 1.346\n",
            "[193/200]: loss_d: 1.035, loss_g: 1.340\n",
            "[194/200]: loss_d: 1.038, loss_g: 1.354\n",
            "[195/200]: loss_d: 1.034, loss_g: 1.350\n",
            "[196/200]: loss_d: 1.034, loss_g: 1.352\n",
            "[197/200]: loss_d: 1.033, loss_g: 1.348\n",
            "[198/200]: loss_d: 1.029, loss_g: 1.361\n",
            "[199/200]: loss_d: 1.030, loss_g: 1.368\n",
            "[200/200]: loss_d: 1.026, loss_g: 1.365\n"
          ]
        }
      ]
    },
    {
      "cell_type": "code",
      "source": [
        "best_G_model_state = G.state_dict()\n",
        "best_G_optim_state = G_optimizer.state_dict()\n",
        "torch.save(best_G_model_state, f\"{G_modelpath}/G_model_state_dict.pt\")\n",
        "torch.save(best_G_optim_state, f\"{G_modelpath}/G_optim_state_dict.pt\")\n",
        "\n",
        "torch.save(D.state_dict(), f\"{D_modelpath}/D_model_state_dict.pt\")\n",
        "torch.save(D_optimizer.state_dict(), f\"{D_modelpath}/D_optim_state_dict.pt\")"
      ],
      "metadata": {
        "id": "HclSAQr_cqag"
      },
      "execution_count": null,
      "outputs": []
    },
    {
      "cell_type": "code",
      "source": [
        "number = 1\n",
        "with torch.no_grad():\n",
        "    test_z = Variable(torch.randn(batch, z_features).to(device))\n",
        "    generated = G(test_z)\n",
        "\n",
        "    save_image(generated.view(batch, 1, 28, 28), f\"{filepath}/samples/sample{number}.png\")"
      ],
      "metadata": {
        "id": "bOxjJKHbqlFU"
      },
      "execution_count": null,
      "outputs": []
    },
    {
      "cell_type": "code",
      "source": [],
      "metadata": {
        "id": "kdlVwlKotiWT"
      },
      "execution_count": null,
      "outputs": []
    }
  ]
}